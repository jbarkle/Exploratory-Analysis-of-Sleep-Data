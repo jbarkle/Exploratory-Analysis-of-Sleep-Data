{
 "cells": [
  {
   "cell_type": "code",
   "execution_count": 1,
   "id": "12f5b07e",
   "metadata": {},
   "outputs": [],
   "source": [
    "#import dependencies \n",
    "import matplotlib.pyplot as plt \n",
    "import pandas as pd\n",
    "import numpy as np \n",
    "from scipy import stats"
   ]
  },
  {
   "cell_type": "code",
   "execution_count": 2,
   "id": "c5c47c31",
   "metadata": {},
   "outputs": [],
   "source": [
    "# import and read data from .csv create original dataframe\n",
    "sleep_df = pd.read_csv(\"resources/Marqueze et al.csv\")"
   ]
  },
  {
   "cell_type": "code",
   "execution_count": 3,
   "id": "35cc23ab",
   "metadata": {},
   "outputs": [
    {
     "data": {
      "text/html": [
       "<div>\n",
       "<style scoped>\n",
       "    .dataframe tbody tr th:only-of-type {\n",
       "        vertical-align: middle;\n",
       "    }\n",
       "\n",
       "    .dataframe tbody tr th {\n",
       "        vertical-align: top;\n",
       "    }\n",
       "\n",
       "    .dataframe thead th {\n",
       "        text-align: right;\n",
       "    }\n",
       "</style>\n",
       "<table border=\"1\" class=\"dataframe\">\n",
       "  <thead>\n",
       "    <tr style=\"text-align: right;\">\n",
       "      <th></th>\n",
       "      <th>id</th>\n",
       "      <th>Gender</th>\n",
       "      <th>Age</th>\n",
       "      <th>Satlazer</th>\n",
       "      <th>Countrycat</th>\n",
       "      <th>Workhourtotal1cat</th>\n",
       "      <th>Enoughsleepcat</th>\n",
       "      <th>Educationlevel</th>\n",
       "      <th>Satworkhour2</th>\n",
       "      <th>SleepQualitycat</th>\n",
       "      <th>...</th>\n",
       "      <th>Work5cat</th>\n",
       "      <th>Depression</th>\n",
       "      <th>Country_Occup_Work5</th>\n",
       "      <th>Sunworkmonth_H</th>\n",
       "      <th>Sunfreemonth_H</th>\n",
       "      <th>SUNWORKFREEMONTH_HOUR</th>\n",
       "      <th>Occup_Work5</th>\n",
       "      <th>Work3cat2</th>\n",
       "      <th>SUNWORKMONTH_HOUR_Mean_INV</th>\n",
       "      <th>SUNWORKMONTH_HOUR_Median_INV</th>\n",
       "    </tr>\n",
       "  </thead>\n",
       "  <tbody>\n",
       "    <tr>\n",
       "      <th>0</th>\n",
       "      <td>1</td>\n",
       "      <td>1</td>\n",
       "      <td>33.0</td>\n",
       "      <td>1</td>\n",
       "      <td>0</td>\n",
       "      <td>0.0</td>\n",
       "      <td>0.0</td>\n",
       "      <td>2.0</td>\n",
       "      <td>1</td>\n",
       "      <td>0.0</td>\n",
       "      <td>...</td>\n",
       "      <td>1</td>\n",
       "      <td>0.0</td>\n",
       "      <td>3</td>\n",
       "      <td>140.0</td>\n",
       "      <td>24.0</td>\n",
       "      <td>106.86</td>\n",
       "      <td>3</td>\n",
       "      <td>1</td>\n",
       "      <td>0</td>\n",
       "      <td>0</td>\n",
       "    </tr>\n",
       "    <tr>\n",
       "      <th>1</th>\n",
       "      <td>2</td>\n",
       "      <td>1</td>\n",
       "      <td>64.0</td>\n",
       "      <td>0</td>\n",
       "      <td>0</td>\n",
       "      <td>1.0</td>\n",
       "      <td>0.0</td>\n",
       "      <td>1.0</td>\n",
       "      <td>0</td>\n",
       "      <td>0.0</td>\n",
       "      <td>...</td>\n",
       "      <td>1</td>\n",
       "      <td>0.0</td>\n",
       "      <td>3</td>\n",
       "      <td>160.0</td>\n",
       "      <td>8.0</td>\n",
       "      <td>116.57</td>\n",
       "      <td>3</td>\n",
       "      <td>1</td>\n",
       "      <td>0</td>\n",
       "      <td>0</td>\n",
       "    </tr>\n",
       "    <tr>\n",
       "      <th>2</th>\n",
       "      <td>3</td>\n",
       "      <td>1</td>\n",
       "      <td>39.0</td>\n",
       "      <td>0</td>\n",
       "      <td>0</td>\n",
       "      <td>1.0</td>\n",
       "      <td>1.0</td>\n",
       "      <td>2.0</td>\n",
       "      <td>1</td>\n",
       "      <td>0.0</td>\n",
       "      <td>...</td>\n",
       "      <td>1</td>\n",
       "      <td>1.0</td>\n",
       "      <td>3</td>\n",
       "      <td>160.0</td>\n",
       "      <td>NaN</td>\n",
       "      <td>NaN</td>\n",
       "      <td>3</td>\n",
       "      <td>1</td>\n",
       "      <td>0</td>\n",
       "      <td>0</td>\n",
       "    </tr>\n",
       "    <tr>\n",
       "      <th>3</th>\n",
       "      <td>4</td>\n",
       "      <td>1</td>\n",
       "      <td>36.0</td>\n",
       "      <td>0</td>\n",
       "      <td>0</td>\n",
       "      <td>1.0</td>\n",
       "      <td>0.0</td>\n",
       "      <td>2.0</td>\n",
       "      <td>2</td>\n",
       "      <td>0.0</td>\n",
       "      <td>...</td>\n",
       "      <td>1</td>\n",
       "      <td>1.0</td>\n",
       "      <td>3</td>\n",
       "      <td>120.0</td>\n",
       "      <td>16.0</td>\n",
       "      <td>90.29</td>\n",
       "      <td>3</td>\n",
       "      <td>1</td>\n",
       "      <td>0</td>\n",
       "      <td>1</td>\n",
       "    </tr>\n",
       "    <tr>\n",
       "      <th>4</th>\n",
       "      <td>5</td>\n",
       "      <td>1</td>\n",
       "      <td>22.0</td>\n",
       "      <td>0</td>\n",
       "      <td>0</td>\n",
       "      <td>1.0</td>\n",
       "      <td>0.0</td>\n",
       "      <td>2.0</td>\n",
       "      <td>0</td>\n",
       "      <td>0.0</td>\n",
       "      <td>...</td>\n",
       "      <td>1</td>\n",
       "      <td>0.0</td>\n",
       "      <td>3</td>\n",
       "      <td>100.0</td>\n",
       "      <td>8.0</td>\n",
       "      <td>73.71</td>\n",
       "      <td>3</td>\n",
       "      <td>1</td>\n",
       "      <td>1</td>\n",
       "      <td>1</td>\n",
       "    </tr>\n",
       "    <tr>\n",
       "      <th>...</th>\n",
       "      <td>...</td>\n",
       "      <td>...</td>\n",
       "      <td>...</td>\n",
       "      <td>...</td>\n",
       "      <td>...</td>\n",
       "      <td>...</td>\n",
       "      <td>...</td>\n",
       "      <td>...</td>\n",
       "      <td>...</td>\n",
       "      <td>...</td>\n",
       "      <td>...</td>\n",
       "      <td>...</td>\n",
       "      <td>...</td>\n",
       "      <td>...</td>\n",
       "      <td>...</td>\n",
       "      <td>...</td>\n",
       "      <td>...</td>\n",
       "      <td>...</td>\n",
       "      <td>...</td>\n",
       "      <td>...</td>\n",
       "      <td>...</td>\n",
       "    </tr>\n",
       "    <tr>\n",
       "      <th>1756</th>\n",
       "      <td>580289</td>\n",
       "      <td>1</td>\n",
       "      <td>43.0</td>\n",
       "      <td>0</td>\n",
       "      <td>1</td>\n",
       "      <td>0.0</td>\n",
       "      <td>0.0</td>\n",
       "      <td>2.0</td>\n",
       "      <td>0</td>\n",
       "      <td>0.0</td>\n",
       "      <td>...</td>\n",
       "      <td>3</td>\n",
       "      <td>0.0</td>\n",
       "      <td>1</td>\n",
       "      <td>32.0</td>\n",
       "      <td>24.0</td>\n",
       "      <td>28.57</td>\n",
       "      <td>1</td>\n",
       "      <td>0</td>\n",
       "      <td>0</td>\n",
       "      <td>0</td>\n",
       "    </tr>\n",
       "    <tr>\n",
       "      <th>1757</th>\n",
       "      <td>580343</td>\n",
       "      <td>0</td>\n",
       "      <td>27.0</td>\n",
       "      <td>0</td>\n",
       "      <td>1</td>\n",
       "      <td>0.0</td>\n",
       "      <td>0.0</td>\n",
       "      <td>0.0</td>\n",
       "      <td>0</td>\n",
       "      <td>0.0</td>\n",
       "      <td>...</td>\n",
       "      <td>3</td>\n",
       "      <td>0.0</td>\n",
       "      <td>1</td>\n",
       "      <td>8.0</td>\n",
       "      <td>18.0</td>\n",
       "      <td>12.29</td>\n",
       "      <td>1</td>\n",
       "      <td>0</td>\n",
       "      <td>1</td>\n",
       "      <td>1</td>\n",
       "    </tr>\n",
       "    <tr>\n",
       "      <th>1758</th>\n",
       "      <td>580345</td>\n",
       "      <td>1</td>\n",
       "      <td>43.0</td>\n",
       "      <td>1</td>\n",
       "      <td>1</td>\n",
       "      <td>0.0</td>\n",
       "      <td>0.0</td>\n",
       "      <td>3.0</td>\n",
       "      <td>1</td>\n",
       "      <td>0.0</td>\n",
       "      <td>...</td>\n",
       "      <td>4</td>\n",
       "      <td>0.0</td>\n",
       "      <td>2</td>\n",
       "      <td>32.0</td>\n",
       "      <td>24.0</td>\n",
       "      <td>28.57</td>\n",
       "      <td>2</td>\n",
       "      <td>1</td>\n",
       "      <td>0</td>\n",
       "      <td>0</td>\n",
       "    </tr>\n",
       "    <tr>\n",
       "      <th>1759</th>\n",
       "      <td>580350</td>\n",
       "      <td>1</td>\n",
       "      <td>40.0</td>\n",
       "      <td>0</td>\n",
       "      <td>1</td>\n",
       "      <td>0.0</td>\n",
       "      <td>0.0</td>\n",
       "      <td>3.0</td>\n",
       "      <td>0</td>\n",
       "      <td>0.0</td>\n",
       "      <td>...</td>\n",
       "      <td>3</td>\n",
       "      <td>0.0</td>\n",
       "      <td>1</td>\n",
       "      <td>8.0</td>\n",
       "      <td>18.0</td>\n",
       "      <td>12.29</td>\n",
       "      <td>1</td>\n",
       "      <td>0</td>\n",
       "      <td>1</td>\n",
       "      <td>1</td>\n",
       "    </tr>\n",
       "    <tr>\n",
       "      <th>1760</th>\n",
       "      <td>580352</td>\n",
       "      <td>1</td>\n",
       "      <td>41.0</td>\n",
       "      <td>0</td>\n",
       "      <td>1</td>\n",
       "      <td>1.0</td>\n",
       "      <td>1.0</td>\n",
       "      <td>2.0</td>\n",
       "      <td>0</td>\n",
       "      <td>1.0</td>\n",
       "      <td>...</td>\n",
       "      <td>4</td>\n",
       "      <td>1.0</td>\n",
       "      <td>2</td>\n",
       "      <td>32.0</td>\n",
       "      <td>24.0</td>\n",
       "      <td>28.57</td>\n",
       "      <td>2</td>\n",
       "      <td>1</td>\n",
       "      <td>0</td>\n",
       "      <td>0</td>\n",
       "    </tr>\n",
       "  </tbody>\n",
       "</table>\n",
       "<p>1761 rows × 28 columns</p>\n",
       "</div>"
      ],
      "text/plain": [
       "          id  Gender   Age  Satlazer  Countrycat  Workhourtotal1cat  \\\n",
       "0          1       1  33.0         1           0                0.0   \n",
       "1          2       1  64.0         0           0                1.0   \n",
       "2          3       1  39.0         0           0                1.0   \n",
       "3          4       1  36.0         0           0                1.0   \n",
       "4          5       1  22.0         0           0                1.0   \n",
       "...      ...     ...   ...       ...         ...                ...   \n",
       "1756  580289       1  43.0         0           1                0.0   \n",
       "1757  580343       0  27.0         0           1                0.0   \n",
       "1758  580345       1  43.0         1           1                0.0   \n",
       "1759  580350       1  40.0         0           1                0.0   \n",
       "1760  580352       1  41.0         0           1                1.0   \n",
       "\n",
       "      Enoughsleepcat  Educationlevel  Satworkhour2  SleepQualitycat  ...  \\\n",
       "0                0.0             2.0             1              0.0  ...   \n",
       "1                0.0             1.0             0              0.0  ...   \n",
       "2                1.0             2.0             1              0.0  ...   \n",
       "3                0.0             2.0             2              0.0  ...   \n",
       "4                0.0             2.0             0              0.0  ...   \n",
       "...              ...             ...           ...              ...  ...   \n",
       "1756             0.0             2.0             0              0.0  ...   \n",
       "1757             0.0             0.0             0              0.0  ...   \n",
       "1758             0.0             3.0             1              0.0  ...   \n",
       "1759             0.0             3.0             0              0.0  ...   \n",
       "1760             1.0             2.0             0              1.0  ...   \n",
       "\n",
       "      Work5cat  Depression  Country_Occup_Work5  Sunworkmonth_H  \\\n",
       "0            1         0.0                    3           140.0   \n",
       "1            1         0.0                    3           160.0   \n",
       "2            1         1.0                    3           160.0   \n",
       "3            1         1.0                    3           120.0   \n",
       "4            1         0.0                    3           100.0   \n",
       "...        ...         ...                  ...             ...   \n",
       "1756         3         0.0                    1            32.0   \n",
       "1757         3         0.0                    1             8.0   \n",
       "1758         4         0.0                    2            32.0   \n",
       "1759         3         0.0                    1             8.0   \n",
       "1760         4         1.0                    2            32.0   \n",
       "\n",
       "      Sunfreemonth_H  SUNWORKFREEMONTH_HOUR  Occup_Work5  Work3cat2  \\\n",
       "0               24.0                 106.86            3          1   \n",
       "1                8.0                 116.57            3          1   \n",
       "2                NaN                    NaN            3          1   \n",
       "3               16.0                  90.29            3          1   \n",
       "4                8.0                  73.71            3          1   \n",
       "...              ...                    ...          ...        ...   \n",
       "1756            24.0                  28.57            1          0   \n",
       "1757            18.0                  12.29            1          0   \n",
       "1758            24.0                  28.57            2          1   \n",
       "1759            18.0                  12.29            1          0   \n",
       "1760            24.0                  28.57            2          1   \n",
       "\n",
       "      SUNWORKMONTH_HOUR_Mean_INV  SUNWORKMONTH_HOUR_Median_INV  \n",
       "0                              0                             0  \n",
       "1                              0                             0  \n",
       "2                              0                             0  \n",
       "3                              0                             1  \n",
       "4                              1                             1  \n",
       "...                          ...                           ...  \n",
       "1756                           0                             0  \n",
       "1757                           1                             1  \n",
       "1758                           0                             0  \n",
       "1759                           1                             1  \n",
       "1760                           0                             0  \n",
       "\n",
       "[1761 rows x 28 columns]"
      ]
     },
     "execution_count": 3,
     "metadata": {},
     "output_type": "execute_result"
    }
   ],
   "source": [
    "#print dataframe \n",
    "sleep_df"
   ]
  },
  {
   "cell_type": "code",
   "execution_count": 4,
   "id": "b58e9b9a",
   "metadata": {},
   "outputs": [
    {
     "data": {
      "text/plain": [
       "Index(['id', 'Gender', 'Age', 'Satlazer', 'Countrycat', 'Workhourtotal1cat',\n",
       "       'Enoughsleepcat', 'Educationlevel', 'Satworkhour2', 'SleepQualitycat',\n",
       "       'AwakeningProblemscat', 'Sleepinesscat', 'Bedtimew', 'Uptimew',\n",
       "       'Bedtimef', 'Uptimef', 'Midsleepfreemean', 'Painneck_lowback',\n",
       "       'Work5cat', 'Depression', 'Country_Occup_Work5', 'Sunworkmonth_H',\n",
       "       'Sunfreemonth_H', 'SUNWORKFREEMONTH_HOUR', 'Occup_Work5', 'Work3cat2',\n",
       "       'SUNWORKMONTH_HOUR_Mean_INV', 'SUNWORKMONTH_HOUR_Median_INV'],\n",
       "      dtype='object')"
      ]
     },
     "execution_count": 4,
     "metadata": {},
     "output_type": "execute_result"
    }
   ],
   "source": [
    "#show column titles \n",
    "sleep_df.columns"
   ]
  },
  {
   "cell_type": "code",
   "execution_count": 5,
   "id": "63689282",
   "metadata": {},
   "outputs": [],
   "source": [
    "#drop null values from dataframe \n",
    "sleep_df.dropna(inplace=True)"
   ]
  },
  {
   "cell_type": "code",
   "execution_count": 6,
   "id": "3252caa0",
   "metadata": {},
   "outputs": [
    {
     "data": {
      "text/plain": [
       "id                              1534\n",
       "Gender                          1534\n",
       "Age                             1534\n",
       "Satlazer                        1534\n",
       "Countrycat                      1534\n",
       "Workhourtotal1cat               1534\n",
       "Enoughsleepcat                  1534\n",
       "Educationlevel                  1534\n",
       "Satworkhour2                    1534\n",
       "SleepQualitycat                 1534\n",
       "AwakeningProblemscat            1534\n",
       "Sleepinesscat                   1534\n",
       "Bedtimew                        1534\n",
       "Uptimew                         1534\n",
       "Bedtimef                        1534\n",
       "Uptimef                         1534\n",
       "Midsleepfreemean                1534\n",
       "Painneck_lowback                1534\n",
       "Work5cat                        1534\n",
       "Depression                      1534\n",
       "Country_Occup_Work5             1534\n",
       "Sunworkmonth_H                  1534\n",
       "Sunfreemonth_H                  1534\n",
       "SUNWORKFREEMONTH_HOUR           1534\n",
       "Occup_Work5                     1534\n",
       "Work3cat2                       1534\n",
       "SUNWORKMONTH_HOUR_Mean_INV      1534\n",
       "SUNWORKMONTH_HOUR_Median_INV    1534\n",
       "dtype: int64"
      ]
     },
     "execution_count": 6,
     "metadata": {},
     "output_type": "execute_result"
    }
   ],
   "source": [
    "sleep_df.count()"
   ]
  },
  {
   "cell_type": "code",
   "execution_count": 7,
   "id": "2071af3f",
   "metadata": {},
   "outputs": [
    {
     "name": "stdout",
     "output_type": "stream",
     "text": [
      "0        5.67\n",
      "1        6.67\n",
      "3        8.00\n",
      "4        7.50\n",
      "5       10.42\n",
      "        ...  \n",
      "1756     6.00\n",
      "1757     6.67\n",
      "1758     7.50\n",
      "1759     8.00\n",
      "1760     3.50\n",
      "Length: 1534, dtype: float64\n"
     ]
    }
   ],
   "source": [
    "#create new dataframe/variable by subtracting the time individuals went to bed from the time they woke up for Workdays \n",
    "time_sleptw = sleep_df[\"Uptimew\"]-sleep_df[\"Bedtimew\"]\n",
    "print(time_sleptw)"
   ]
  },
  {
   "cell_type": "code",
   "execution_count": 8,
   "id": "333ddeba",
   "metadata": {},
   "outputs": [
    {
     "data": {
      "text/plain": [
       "0        9.67\n",
       "1        8.67\n",
       "3       10.50\n",
       "4        9.50\n",
       "5       10.42\n",
       "        ...  \n",
       "1756     8.00\n",
       "1757    10.00\n",
       "1758     9.50\n",
       "1759     6.00\n",
       "1760     4.75\n",
       "Length: 1534, dtype: float64"
      ]
     },
     "execution_count": 8,
     "metadata": {},
     "output_type": "execute_result"
    }
   ],
   "source": [
    "##create new dataframe/variable by subtracting the time individuals went to bed from the time they woke up for Free day\n",
    "time_sleptf = sleep_df[\"Uptimef\"]-sleep_df[\"Bedtimef\"]\n",
    "time_sleptf"
   ]
  },
  {
   "cell_type": "code",
   "execution_count": 9,
   "id": "e729fbd5",
   "metadata": {},
   "outputs": [],
   "source": [
    "#add and title the new the new column to the sleep_df dataframe \n",
    "sleep_df[\"Time Slept w/ Work\"]= time_sleptw"
   ]
  },
  {
   "cell_type": "code",
   "execution_count": 10,
   "id": "570cc804",
   "metadata": {},
   "outputs": [],
   "source": [
    "#add and title the new the new column to the sleep_df dataframe \n",
    "sleep_df[\"Time Slept w/ Free Time\"]= time_sleptf"
   ]
  },
  {
   "cell_type": "code",
   "execution_count": 11,
   "id": "f4af0d4f",
   "metadata": {},
   "outputs": [
    {
     "data": {
      "text/plain": [
       "Index(['id', 'Gender', 'Age', 'Satlazer', 'Countrycat', 'Workhourtotal1cat',\n",
       "       'Enoughsleepcat', 'Educationlevel', 'Satworkhour2', 'SleepQualitycat',\n",
       "       'AwakeningProblemscat', 'Sleepinesscat', 'Bedtimew', 'Uptimew',\n",
       "       'Bedtimef', 'Uptimef', 'Midsleepfreemean', 'Painneck_lowback',\n",
       "       'Work5cat', 'Depression', 'Country_Occup_Work5', 'Sunworkmonth_H',\n",
       "       'Sunfreemonth_H', 'SUNWORKFREEMONTH_HOUR', 'Occup_Work5', 'Work3cat2',\n",
       "       'SUNWORKMONTH_HOUR_Mean_INV', 'SUNWORKMONTH_HOUR_Median_INV',\n",
       "       'Time Slept w/ Work', 'Time Slept w/ Free Time'],\n",
       "      dtype='object')"
      ]
     },
     "execution_count": 11,
     "metadata": {},
     "output_type": "execute_result"
    }
   ],
   "source": [
    "#show new columns added to dataframe \n",
    "sleep_df.columns"
   ]
  },
  {
   "cell_type": "code",
   "execution_count": 12,
   "id": "0551628c",
   "metadata": {},
   "outputs": [
    {
     "data": {
      "text/plain": [
       "Ttest_indResult(statistic=-1.5218689171682855, pvalue=0.13129521932015384)"
      ]
     },
     "execution_count": 12,
     "metadata": {},
     "output_type": "execute_result"
    }
   ],
   "source": [
    "#create populations for those who said yes or no for depression with free time\n",
    "\n",
    "n_f_pop = sleep_df.loc[sleep_df[\"Depression\"] == 0, \"Time Slept w/ Free Time\"]\n",
    "y_f_pop = sleep_df.loc[sleep_df[\"Depression\"] == 1, \"Time Slept w/ Free Time\"]\n",
    "\n",
    "#perform t test on y/n freetime populations \n",
    "stats.ttest_ind(y_f_pop, n_f_pop, equal_var=False)"
   ]
  },
  {
   "cell_type": "code",
   "execution_count": 13,
   "id": "736a1b26",
   "metadata": {},
   "outputs": [
    {
     "data": {
      "text/plain": [
       "Ttest_indResult(statistic=-1.742975773144947, pvalue=0.08450274306730471)"
      ]
     },
     "execution_count": 13,
     "metadata": {},
     "output_type": "execute_result"
    }
   ],
   "source": [
    "##create populations for those who said yes or no for depression with free time\n",
    "n_w_pop = sleep_df.loc[sleep_df[\"Depression\"] == 0, \"Time Slept w/ Work\"]\n",
    "y_w_pop = sleep_df.loc[sleep_df[\"Depression\"] == 1, \"Time Slept w/ Work\"]\n",
    "\n",
    "#perform t test on y/n work time populations \n",
    "stats.ttest_ind(y_w_pop, n_w_pop, equal_var=False)"
   ]
  },
  {
   "cell_type": "code",
   "execution_count": 14,
   "id": "6a75a505",
   "metadata": {},
   "outputs": [],
   "source": [
    "#replace numerical values for depression with yes and no \n",
    "sleep_df[\"Depression\"].replace([0, 1], [\"No\", \"Yes\"], inplace=True)\n"
   ]
  },
  {
   "cell_type": "code",
   "execution_count": 15,
   "id": "4bae37a9",
   "metadata": {},
   "outputs": [
    {
     "data": {
      "text/plain": [
       "0     No\n",
       "1     No\n",
       "3    Yes\n",
       "4     No\n",
       "5     No\n",
       "Name: Depression, dtype: object"
      ]
     },
     "execution_count": 15,
     "metadata": {},
     "output_type": "execute_result"
    }
   ],
   "source": [
    "sleep_df[\"Depression\"].head()"
   ]
  },
  {
   "cell_type": "code",
   "execution_count": 16,
   "id": "7b93b983",
   "metadata": {},
   "outputs": [
    {
     "data": {
      "text/plain": [
       "Depression\n",
       "No     8.892815\n",
       "Yes    8.644545\n",
       "Name: Time Slept w/ Free Time, dtype: float64"
      ]
     },
     "execution_count": 16,
     "metadata": {},
     "output_type": "execute_result"
    }
   ],
   "source": [
    "#Create a new dataframe for the Yes/No values and Group the values by their values. Giving the average time slept for all yes and no\n",
    "sleep_df_yn_f_group = sleep_df.groupby(\"Depression\").mean()['Time Slept w/ Free Time']\n",
    "sleep_df_yn_f_group"
   ]
  },
  {
   "cell_type": "code",
   "execution_count": 17,
   "id": "f518f058",
   "metadata": {},
   "outputs": [
    {
     "data": {
      "image/png": "[encoded data removed]",
      "text/plain": [
       "<Figure size 432x288 with 1 Axes>"
      ]
     },
     "metadata": {
      "needs_background": "light"
     },
     "output_type": "display_data"
    }
   ],
   "source": [
    "#create bar chart with yes/no freetime dataframe \n",
    "sleep_df_yn_f_group.plot.bar(rot=0)\n",
    "plt.title(\"Depression and Amount of Hours Slept During Free Period\")\n",
    "plt.ylabel(\"Hours of Sleep\")\n",
    "plt.xlabel(\"Reported Depression\")\n",
    "plt.savefig('figures/depression_sleep_freetime_bar.png',dpi=72)\n",
    "plt.show()\n",
    "\n"
   ]
  },
  {
   "cell_type": "code",
   "execution_count": 18,
   "id": "76a72bea",
   "metadata": {},
   "outputs": [],
   "source": [
    "#Create a new dataframe for the Yes/No values and Group the values by their values. Giving the average time slept for all yes and no\n",
    "sleep_df_yn_w_group = sleep_df.groupby(\"Depression\").mean()[\"Time Slept w/ Work\"]"
   ]
  },
  {
   "cell_type": "code",
   "execution_count": 19,
   "id": "c5b31dfe",
   "metadata": {},
   "outputs": [
    {
     "data": {
      "text/plain": [
       "Depression\n",
       "No     6.856203\n",
       "Yes    6.582955\n",
       "Name: Time Slept w/ Work, dtype: float64"
      ]
     },
     "execution_count": 19,
     "metadata": {},
     "output_type": "execute_result"
    }
   ],
   "source": [
    "sleep_df_yn_w_group"
   ]
  },
  {
   "cell_type": "code",
   "execution_count": 20,
   "id": "1a147d1f",
   "metadata": {},
   "outputs": [
    {
     "data": {
      "image/png": "[encoded data removed]",
      "text/plain": [
       "<Figure size 432x288 with 1 Axes>"
      ]
     },
     "metadata": {
      "needs_background": "light"
     },
     "output_type": "display_data"
    }
   ],
   "source": [
    "#create bar chart with yes/no dataframe \n",
    "sleep_df_yn_w_group.plot.bar(rot=0)\n",
    "plt.title(\"Depression and Amount of Hours Slept During Work Period\")\n",
    "plt.ylabel(\"Hours of Sleep\")\n",
    "plt.xlabel(\"Reported Depression\")\n",
    "plt.savefig('figures/depression_sleep_work_bar.png',dpi=72)\n",
    "plt.show()"
   ]
  },
  {
   "cell_type": "code",
   "execution_count": 21,
   "id": "83726c45",
   "metadata": {},
   "outputs": [
    {
     "data": {
      "text/plain": [
       "Depression\n",
       "No     8.892815\n",
       "Yes    8.644545\n",
       "Name: Time Slept w/ Free Time, dtype: float64"
      ]
     },
     "execution_count": 21,
     "metadata": {},
     "output_type": "execute_result"
    }
   ],
   "source": [
    "#Create a new dataframe for the Yes/No values and Group the values by their values. Giving the average time slept for all yes and no\n",
    "sleep_df_yn_f_group = sleep_df.groupby(\"Depression\").mean()['Time Slept w/ Free Time']\n",
    "sleep_df_yn_f_group"
   ]
  },
  {
   "cell_type": "code",
   "execution_count": 22,
   "id": "e6551ad3",
   "metadata": {},
   "outputs": [],
   "source": [
    "#create new filtered dataframe for Depression with work time \n",
    "sleep_df_dep_w_filtered = sleep_df.loc[:,[\"Depression\", \"Time Slept w/ Work\"]]"
   ]
  },
  {
   "cell_type": "code",
   "execution_count": 23,
   "id": "7f5cb000",
   "metadata": {},
   "outputs": [
    {
     "data": {
      "image/png": "[encoded data removed]",
      "text/plain": [
       "<Figure size 432x288 with 1 Axes>"
      ]
     },
     "metadata": {
      "needs_background": "light"
     },
     "output_type": "display_data"
    }
   ],
   "source": [
    "#create new boxplot for Dpression and Time slept with work \n",
    "sleep_df_dep_w_filtered.boxplot(column=['Time Slept w/ Work'],by=['Depression']) \n",
    "plt.title(\"Depression and Amount of Hours Slept During Work\")\n",
    "plt.xlabel(\"Reported Depression\")\n",
    "plt.ylabel(\"Hours of Sleep\")\n",
    "plt.savefig('figures/depression_sleep_work_box.png',dpi=72)\n",
    "plt.show()"
   ]
  },
  {
   "cell_type": "code",
   "execution_count": 24,
   "id": "4ee49c24",
   "metadata": {},
   "outputs": [],
   "source": [
    "#create new filtered dataframe for Depression\n",
    "sleep_df_dep_f_filtered = sleep_df.loc[:,[\"Depression\", \"Time Slept w/ Free Time\"]]"
   ]
  },
  {
   "cell_type": "code",
   "execution_count": 25,
   "id": "e447539e",
   "metadata": {},
   "outputs": [
    {
     "data": {
      "image/png": "[encoded data removed]",
      "text/plain": [
       "<Figure size 432x288 with 1 Axes>"
      ]
     },
     "metadata": {
      "needs_background": "light"
     },
     "output_type": "display_data"
    }
   ],
   "source": [
    "#create new boxplot for Dpression and Time slept with work \n",
    "sleep_df_dep_f_filtered.boxplot(column=['Time Slept w/ Free Time'],by=['Depression']) \n",
    "plt.title(\"Depression and Amount of Hours Slept During Free Time\")\n",
    "plt.xlabel(\"Reported Depression\")\n",
    "plt.ylabel(\"Hours of Sleep\")\n",
    "plt.savefig('figures/depression_sleep_free_box.png',dpi=72)\n",
    "plt.show()"
   ]
  },
  {
   "cell_type": "code",
   "execution_count": null,
   "id": "ce03a670",
   "metadata": {},
   "outputs": [],
   "source": []
  }
 ],
 "metadata": {
  "kernelspec": {
   "display_name": "Python 3 (ipykernel)",
   "language": "python",
   "name": "python3"
  },
  "language_info": {
   "codemirror_mode": {
    "name": "ipython",
    "version": 3
   },
   "file_extension": ".py",
   "mimetype": "text/x-python",
   "name": "python",
   "nbconvert_exporter": "python",
   "pygments_lexer": "ipython3",
   "version": "3.7.7"
  }
 },
 "nbformat": 4,
 "nbformat_minor": 5
}
