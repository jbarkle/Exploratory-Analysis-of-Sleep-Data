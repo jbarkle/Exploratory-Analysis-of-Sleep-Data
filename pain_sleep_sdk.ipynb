{
 "cells": [
  {
   "cell_type": "code",
   "execution_count": 1,
   "id": "1f49d643",
   "metadata": {},
   "outputs": [],
   "source": [
    "import matplotlib.pyplot as plt \n",
    "import pandas as pd\n",
    "import numpy as np \n",
    "import scipy.stats as sp"
   ]
  },
  {
   "cell_type": "code",
   "execution_count": 2,
   "id": "88b8c63a",
   "metadata": {},
   "outputs": [],
   "source": [
    "#file location \n",
    "file = \"Resources/A_Marqueze et al.csv\""
   ]
  },
  {
   "cell_type": "code",
   "execution_count": 3,
   "id": "7a967c24",
   "metadata": {},
   "outputs": [],
   "source": [
    "#import and read data to create original dataframe \n",
    "sleep_df = pd.read_csv(file)"
   ]
  },
  {
   "cell_type": "code",
   "execution_count": 4,
   "id": "85da96e1",
   "metadata": {},
   "outputs": [
    {
     "data": {
      "text/html": [
       "<div>\n",
       "<style scoped>\n",
       "    .dataframe tbody tr th:only-of-type {\n",
       "        vertical-align: middle;\n",
       "    }\n",
       "\n",
       "    .dataframe tbody tr th {\n",
       "        vertical-align: top;\n",
       "    }\n",
       "\n",
       "    .dataframe thead th {\n",
       "        text-align: right;\n",
       "    }\n",
       "</style>\n",
       "<table border=\"1\" class=\"dataframe\">\n",
       "  <thead>\n",
       "    <tr style=\"text-align: right;\">\n",
       "      <th></th>\n",
       "      <th>id</th>\n",
       "      <th>Gender</th>\n",
       "      <th>Age</th>\n",
       "      <th>Satlazer</th>\n",
       "      <th>Countrycat</th>\n",
       "      <th>Workhourtotal1cat</th>\n",
       "      <th>Enoughsleepcat</th>\n",
       "      <th>Educationlevel</th>\n",
       "      <th>Satworkhour2</th>\n",
       "      <th>SleepQualitycat</th>\n",
       "      <th>...</th>\n",
       "      <th>Work5cat</th>\n",
       "      <th>Depression</th>\n",
       "      <th>Country_Occup_Work5</th>\n",
       "      <th>Sunworkmonth_H</th>\n",
       "      <th>Sunfreemonth_H</th>\n",
       "      <th>SUNWORKFREEMONTH_HOUR</th>\n",
       "      <th>Occup_Work5</th>\n",
       "      <th>Work3cat2</th>\n",
       "      <th>SUNWORKMONTH_HOUR_Mean_INV</th>\n",
       "      <th>SUNWORKMONTH_HOUR_Median_INV</th>\n",
       "    </tr>\n",
       "  </thead>\n",
       "  <tbody>\n",
       "    <tr>\n",
       "      <th>0</th>\n",
       "      <td>1</td>\n",
       "      <td>1</td>\n",
       "      <td>33.0</td>\n",
       "      <td>1</td>\n",
       "      <td>0</td>\n",
       "      <td>0.0</td>\n",
       "      <td>0.0</td>\n",
       "      <td>2.0</td>\n",
       "      <td>1</td>\n",
       "      <td>0.0</td>\n",
       "      <td>...</td>\n",
       "      <td>1</td>\n",
       "      <td>0.0</td>\n",
       "      <td>3</td>\n",
       "      <td>140.0</td>\n",
       "      <td>24.0</td>\n",
       "      <td>106.86</td>\n",
       "      <td>3</td>\n",
       "      <td>1</td>\n",
       "      <td>0</td>\n",
       "      <td>0</td>\n",
       "    </tr>\n",
       "    <tr>\n",
       "      <th>1</th>\n",
       "      <td>2</td>\n",
       "      <td>1</td>\n",
       "      <td>64.0</td>\n",
       "      <td>0</td>\n",
       "      <td>0</td>\n",
       "      <td>1.0</td>\n",
       "      <td>0.0</td>\n",
       "      <td>1.0</td>\n",
       "      <td>0</td>\n",
       "      <td>0.0</td>\n",
       "      <td>...</td>\n",
       "      <td>1</td>\n",
       "      <td>0.0</td>\n",
       "      <td>3</td>\n",
       "      <td>160.0</td>\n",
       "      <td>8.0</td>\n",
       "      <td>116.57</td>\n",
       "      <td>3</td>\n",
       "      <td>1</td>\n",
       "      <td>0</td>\n",
       "      <td>0</td>\n",
       "    </tr>\n",
       "    <tr>\n",
       "      <th>2</th>\n",
       "      <td>3</td>\n",
       "      <td>1</td>\n",
       "      <td>39.0</td>\n",
       "      <td>0</td>\n",
       "      <td>0</td>\n",
       "      <td>1.0</td>\n",
       "      <td>1.0</td>\n",
       "      <td>2.0</td>\n",
       "      <td>1</td>\n",
       "      <td>0.0</td>\n",
       "      <td>...</td>\n",
       "      <td>1</td>\n",
       "      <td>1.0</td>\n",
       "      <td>3</td>\n",
       "      <td>160.0</td>\n",
       "      <td>NaN</td>\n",
       "      <td>NaN</td>\n",
       "      <td>3</td>\n",
       "      <td>1</td>\n",
       "      <td>0</td>\n",
       "      <td>0</td>\n",
       "    </tr>\n",
       "    <tr>\n",
       "      <th>3</th>\n",
       "      <td>4</td>\n",
       "      <td>1</td>\n",
       "      <td>36.0</td>\n",
       "      <td>0</td>\n",
       "      <td>0</td>\n",
       "      <td>1.0</td>\n",
       "      <td>0.0</td>\n",
       "      <td>2.0</td>\n",
       "      <td>2</td>\n",
       "      <td>0.0</td>\n",
       "      <td>...</td>\n",
       "      <td>1</td>\n",
       "      <td>1.0</td>\n",
       "      <td>3</td>\n",
       "      <td>120.0</td>\n",
       "      <td>16.0</td>\n",
       "      <td>90.29</td>\n",
       "      <td>3</td>\n",
       "      <td>1</td>\n",
       "      <td>0</td>\n",
       "      <td>1</td>\n",
       "    </tr>\n",
       "    <tr>\n",
       "      <th>4</th>\n",
       "      <td>5</td>\n",
       "      <td>1</td>\n",
       "      <td>22.0</td>\n",
       "      <td>0</td>\n",
       "      <td>0</td>\n",
       "      <td>1.0</td>\n",
       "      <td>0.0</td>\n",
       "      <td>2.0</td>\n",
       "      <td>0</td>\n",
       "      <td>0.0</td>\n",
       "      <td>...</td>\n",
       "      <td>1</td>\n",
       "      <td>0.0</td>\n",
       "      <td>3</td>\n",
       "      <td>100.0</td>\n",
       "      <td>8.0</td>\n",
       "      <td>73.71</td>\n",
       "      <td>3</td>\n",
       "      <td>1</td>\n",
       "      <td>1</td>\n",
       "      <td>1</td>\n",
       "    </tr>\n",
       "    <tr>\n",
       "      <th>...</th>\n",
       "      <td>...</td>\n",
       "      <td>...</td>\n",
       "      <td>...</td>\n",
       "      <td>...</td>\n",
       "      <td>...</td>\n",
       "      <td>...</td>\n",
       "      <td>...</td>\n",
       "      <td>...</td>\n",
       "      <td>...</td>\n",
       "      <td>...</td>\n",
       "      <td>...</td>\n",
       "      <td>...</td>\n",
       "      <td>...</td>\n",
       "      <td>...</td>\n",
       "      <td>...</td>\n",
       "      <td>...</td>\n",
       "      <td>...</td>\n",
       "      <td>...</td>\n",
       "      <td>...</td>\n",
       "      <td>...</td>\n",
       "      <td>...</td>\n",
       "    </tr>\n",
       "    <tr>\n",
       "      <th>1756</th>\n",
       "      <td>580289</td>\n",
       "      <td>1</td>\n",
       "      <td>43.0</td>\n",
       "      <td>0</td>\n",
       "      <td>1</td>\n",
       "      <td>0.0</td>\n",
       "      <td>0.0</td>\n",
       "      <td>2.0</td>\n",
       "      <td>0</td>\n",
       "      <td>0.0</td>\n",
       "      <td>...</td>\n",
       "      <td>3</td>\n",
       "      <td>0.0</td>\n",
       "      <td>1</td>\n",
       "      <td>32.0</td>\n",
       "      <td>24.0</td>\n",
       "      <td>28.57</td>\n",
       "      <td>1</td>\n",
       "      <td>0</td>\n",
       "      <td>0</td>\n",
       "      <td>0</td>\n",
       "    </tr>\n",
       "    <tr>\n",
       "      <th>1757</th>\n",
       "      <td>580343</td>\n",
       "      <td>0</td>\n",
       "      <td>27.0</td>\n",
       "      <td>0</td>\n",
       "      <td>1</td>\n",
       "      <td>0.0</td>\n",
       "      <td>0.0</td>\n",
       "      <td>0.0</td>\n",
       "      <td>0</td>\n",
       "      <td>0.0</td>\n",
       "      <td>...</td>\n",
       "      <td>3</td>\n",
       "      <td>0.0</td>\n",
       "      <td>1</td>\n",
       "      <td>8.0</td>\n",
       "      <td>18.0</td>\n",
       "      <td>12.29</td>\n",
       "      <td>1</td>\n",
       "      <td>0</td>\n",
       "      <td>1</td>\n",
       "      <td>1</td>\n",
       "    </tr>\n",
       "    <tr>\n",
       "      <th>1758</th>\n",
       "      <td>580345</td>\n",
       "      <td>1</td>\n",
       "      <td>43.0</td>\n",
       "      <td>1</td>\n",
       "      <td>1</td>\n",
       "      <td>0.0</td>\n",
       "      <td>0.0</td>\n",
       "      <td>3.0</td>\n",
       "      <td>1</td>\n",
       "      <td>0.0</td>\n",
       "      <td>...</td>\n",
       "      <td>4</td>\n",
       "      <td>0.0</td>\n",
       "      <td>2</td>\n",
       "      <td>32.0</td>\n",
       "      <td>24.0</td>\n",
       "      <td>28.57</td>\n",
       "      <td>2</td>\n",
       "      <td>1</td>\n",
       "      <td>0</td>\n",
       "      <td>0</td>\n",
       "    </tr>\n",
       "    <tr>\n",
       "      <th>1759</th>\n",
       "      <td>580350</td>\n",
       "      <td>1</td>\n",
       "      <td>40.0</td>\n",
       "      <td>0</td>\n",
       "      <td>1</td>\n",
       "      <td>0.0</td>\n",
       "      <td>0.0</td>\n",
       "      <td>3.0</td>\n",
       "      <td>0</td>\n",
       "      <td>0.0</td>\n",
       "      <td>...</td>\n",
       "      <td>3</td>\n",
       "      <td>0.0</td>\n",
       "      <td>1</td>\n",
       "      <td>8.0</td>\n",
       "      <td>18.0</td>\n",
       "      <td>12.29</td>\n",
       "      <td>1</td>\n",
       "      <td>0</td>\n",
       "      <td>1</td>\n",
       "      <td>1</td>\n",
       "    </tr>\n",
       "    <tr>\n",
       "      <th>1760</th>\n",
       "      <td>580352</td>\n",
       "      <td>1</td>\n",
       "      <td>41.0</td>\n",
       "      <td>0</td>\n",
       "      <td>1</td>\n",
       "      <td>1.0</td>\n",
       "      <td>1.0</td>\n",
       "      <td>2.0</td>\n",
       "      <td>0</td>\n",
       "      <td>1.0</td>\n",
       "      <td>...</td>\n",
       "      <td>4</td>\n",
       "      <td>1.0</td>\n",
       "      <td>2</td>\n",
       "      <td>32.0</td>\n",
       "      <td>24.0</td>\n",
       "      <td>28.57</td>\n",
       "      <td>2</td>\n",
       "      <td>1</td>\n",
       "      <td>0</td>\n",
       "      <td>0</td>\n",
       "    </tr>\n",
       "  </tbody>\n",
       "</table>\n",
       "<p>1761 rows × 28 columns</p>\n",
       "</div>"
      ],
      "text/plain": [
       "          id  Gender   Age  Satlazer  Countrycat  Workhourtotal1cat  \\\n",
       "0          1       1  33.0         1           0                0.0   \n",
       "1          2       1  64.0         0           0                1.0   \n",
       "2          3       1  39.0         0           0                1.0   \n",
       "3          4       1  36.0         0           0                1.0   \n",
       "4          5       1  22.0         0           0                1.0   \n",
       "...      ...     ...   ...       ...         ...                ...   \n",
       "1756  580289       1  43.0         0           1                0.0   \n",
       "1757  580343       0  27.0         0           1                0.0   \n",
       "1758  580345       1  43.0         1           1                0.0   \n",
       "1759  580350       1  40.0         0           1                0.0   \n",
       "1760  580352       1  41.0         0           1                1.0   \n",
       "\n",
       "      Enoughsleepcat  Educationlevel  Satworkhour2  SleepQualitycat  ...  \\\n",
       "0                0.0             2.0             1              0.0  ...   \n",
       "1                0.0             1.0             0              0.0  ...   \n",
       "2                1.0             2.0             1              0.0  ...   \n",
       "3                0.0             2.0             2              0.0  ...   \n",
       "4                0.0             2.0             0              0.0  ...   \n",
       "...              ...             ...           ...              ...  ...   \n",
       "1756             0.0             2.0             0              0.0  ...   \n",
       "1757             0.0             0.0             0              0.0  ...   \n",
       "1758             0.0             3.0             1              0.0  ...   \n",
       "1759             0.0             3.0             0              0.0  ...   \n",
       "1760             1.0             2.0             0              1.0  ...   \n",
       "\n",
       "      Work5cat  Depression  Country_Occup_Work5  Sunworkmonth_H  \\\n",
       "0            1         0.0                    3           140.0   \n",
       "1            1         0.0                    3           160.0   \n",
       "2            1         1.0                    3           160.0   \n",
       "3            1         1.0                    3           120.0   \n",
       "4            1         0.0                    3           100.0   \n",
       "...        ...         ...                  ...             ...   \n",
       "1756         3         0.0                    1            32.0   \n",
       "1757         3         0.0                    1             8.0   \n",
       "1758         4         0.0                    2            32.0   \n",
       "1759         3         0.0                    1             8.0   \n",
       "1760         4         1.0                    2            32.0   \n",
       "\n",
       "      Sunfreemonth_H  SUNWORKFREEMONTH_HOUR  Occup_Work5  Work3cat2  \\\n",
       "0               24.0                 106.86            3          1   \n",
       "1                8.0                 116.57            3          1   \n",
       "2                NaN                    NaN            3          1   \n",
       "3               16.0                  90.29            3          1   \n",
       "4                8.0                  73.71            3          1   \n",
       "...              ...                    ...          ...        ...   \n",
       "1756            24.0                  28.57            1          0   \n",
       "1757            18.0                  12.29            1          0   \n",
       "1758            24.0                  28.57            2          1   \n",
       "1759            18.0                  12.29            1          0   \n",
       "1760            24.0                  28.57            2          1   \n",
       "\n",
       "      SUNWORKMONTH_HOUR_Mean_INV  SUNWORKMONTH_HOUR_Median_INV  \n",
       "0                              0                             0  \n",
       "1                              0                             0  \n",
       "2                              0                             0  \n",
       "3                              0                             1  \n",
       "4                              1                             1  \n",
       "...                          ...                           ...  \n",
       "1756                           0                             0  \n",
       "1757                           1                             1  \n",
       "1758                           0                             0  \n",
       "1759                           1                             1  \n",
       "1760                           0                             0  \n",
       "\n",
       "[1761 rows x 28 columns]"
      ]
     },
     "execution_count": 4,
     "metadata": {},
     "output_type": "execute_result"
    }
   ],
   "source": [
    "#preview dataframe \n",
    "sleep_df"
   ]
  },
  {
   "cell_type": "code",
   "execution_count": 5,
   "id": "81f0a920",
   "metadata": {},
   "outputs": [
    {
     "data": {
      "text/plain": [
       "Index(['id', 'Gender', 'Age', 'Satlazer', 'Countrycat', 'Workhourtotal1cat',\n",
       "       'Enoughsleepcat', 'Educationlevel', 'Satworkhour2', 'SleepQualitycat',\n",
       "       'AwakeningProblemscat', 'Sleepinesscat', 'Bedtimew', 'Uptimew',\n",
       "       'Bedtimef', 'Uptimef', 'Midsleepfreemean', 'Painneck_lowback',\n",
       "       'Work5cat', 'Depression', 'Country_Occup_Work5', 'Sunworkmonth_H',\n",
       "       'Sunfreemonth_H', 'SUNWORKFREEMONTH_HOUR', 'Occup_Work5', 'Work3cat2',\n",
       "       'SUNWORKMONTH_HOUR_Mean_INV', 'SUNWORKMONTH_HOUR_Median_INV'],\n",
       "      dtype='object')"
      ]
     },
     "execution_count": 5,
     "metadata": {},
     "output_type": "execute_result"
    }
   ],
   "source": [
    "#preview columns \n",
    "sleep_df.columns"
   ]
  },
  {
   "cell_type": "code",
   "execution_count": 6,
   "id": "9e6ecb4d",
   "metadata": {},
   "outputs": [],
   "source": [
    "sleep_df.dropna(inplace=True)"
   ]
  },
  {
   "cell_type": "code",
   "execution_count": 7,
   "id": "fe416c4d",
   "metadata": {},
   "outputs": [
    {
     "data": {
      "text/plain": [
       "id                              1534\n",
       "Gender                          1534\n",
       "Age                             1534\n",
       "Satlazer                        1534\n",
       "Countrycat                      1534\n",
       "Workhourtotal1cat               1534\n",
       "Enoughsleepcat                  1534\n",
       "Educationlevel                  1534\n",
       "Satworkhour2                    1534\n",
       "SleepQualitycat                 1534\n",
       "AwakeningProblemscat            1534\n",
       "Sleepinesscat                   1534\n",
       "Bedtimew                        1534\n",
       "Uptimew                         1534\n",
       "Bedtimef                        1534\n",
       "Uptimef                         1534\n",
       "Midsleepfreemean                1534\n",
       "Painneck_lowback                1534\n",
       "Work5cat                        1534\n",
       "Depression                      1534\n",
       "Country_Occup_Work5             1534\n",
       "Sunworkmonth_H                  1534\n",
       "Sunfreemonth_H                  1534\n",
       "SUNWORKFREEMONTH_HOUR           1534\n",
       "Occup_Work5                     1534\n",
       "Work3cat2                       1534\n",
       "SUNWORKMONTH_HOUR_Mean_INV      1534\n",
       "SUNWORKMONTH_HOUR_Median_INV    1534\n",
       "dtype: int64"
      ]
     },
     "execution_count": 7,
     "metadata": {},
     "output_type": "execute_result"
    }
   ],
   "source": [
    "sleep_df.count()"
   ]
  },
  {
   "cell_type": "code",
   "execution_count": 8,
   "id": "0478b3dc",
   "metadata": {},
   "outputs": [
    {
     "name": "stdout",
     "output_type": "stream",
     "text": [
      "0        5.67\n",
      "1        6.67\n",
      "3        8.00\n",
      "4        7.50\n",
      "5       10.42\n",
      "        ...  \n",
      "1756     6.00\n",
      "1757     6.67\n",
      "1758     7.50\n",
      "1759     8.00\n",
      "1760     3.50\n",
      "Length: 1534, dtype: float64\n"
     ]
    }
   ],
   "source": [
    "# creating a variable to hold the actual hours slept for a workday, \"w\"\n",
    "time_sleptw = sleep_df[\"Uptimew\"]-sleep_df[\"Bedtimew\"]\n",
    "print(time_sleptw)"
   ]
  },
  {
   "cell_type": "code",
   "execution_count": 9,
   "id": "d98a8d51",
   "metadata": {},
   "outputs": [
    {
     "data": {
      "text/plain": [
       "0        9.67\n",
       "1        8.67\n",
       "3       10.50\n",
       "4        9.50\n",
       "5       10.42\n",
       "        ...  \n",
       "1756     8.00\n",
       "1757    10.00\n",
       "1758     9.50\n",
       "1759     6.00\n",
       "1760     4.75\n",
       "Length: 1534, dtype: float64"
      ]
     },
     "execution_count": 9,
     "metadata": {},
     "output_type": "execute_result"
    }
   ],
   "source": [
    "# creating a variable to hold the actual hours slept for a freeday, \"f\"\n",
    "time_sleptf = sleep_df[\"Uptimef\"]-sleep_df[\"Bedtimef\"]\n",
    "time_sleptf\n"
   ]
  },
  {
   "cell_type": "code",
   "execution_count": 10,
   "id": "a5d2c8a5",
   "metadata": {},
   "outputs": [],
   "source": [
    "#Creating new column for time slept workday\n",
    "sleep_df[\"Time Slept w/ Work\"]= time_sleptw"
   ]
  },
  {
   "cell_type": "code",
   "execution_count": 11,
   "id": "7c2edf0a",
   "metadata": {},
   "outputs": [],
   "source": [
    "#Creating new column for time slept freeday\n",
    "sleep_df[\"Time Slept w/ Free Time\"]= time_sleptf"
   ]
  },
  {
   "cell_type": "code",
   "execution_count": 12,
   "id": "f738bf8d",
   "metadata": {},
   "outputs": [
    {
     "data": {
      "text/plain": [
       "Index(['id', 'Gender', 'Age', 'Satlazer', 'Countrycat', 'Workhourtotal1cat',\n",
       "       'Enoughsleepcat', 'Educationlevel', 'Satworkhour2', 'SleepQualitycat',\n",
       "       'AwakeningProblemscat', 'Sleepinesscat', 'Bedtimew', 'Uptimew',\n",
       "       'Bedtimef', 'Uptimef', 'Midsleepfreemean', 'Painneck_lowback',\n",
       "       'Work5cat', 'Depression', 'Country_Occup_Work5', 'Sunworkmonth_H',\n",
       "       'Sunfreemonth_H', 'SUNWORKFREEMONTH_HOUR', 'Occup_Work5', 'Work3cat2',\n",
       "       'SUNWORKMONTH_HOUR_Mean_INV', 'SUNWORKMONTH_HOUR_Median_INV',\n",
       "       'Time Slept w/ Work', 'Time Slept w/ Free Time'],\n",
       "      dtype='object')"
      ]
     },
     "execution_count": 12,
     "metadata": {},
     "output_type": "execute_result"
    }
   ],
   "source": [
    "#listing out all columns in the dataframe\n",
    "sleep_df.columns\n"
   ]
  },
  {
   "cell_type": "code",
   "execution_count": 13,
   "id": "48d7cad1",
   "metadata": {},
   "outputs": [],
   "source": [
    "#Using .replace to efficiently utilize the groupby function below.\n",
    "\n",
    "sleep_df[\"Painneck_lowback\"].replace([0, 1, 2], [\"No Pain\", \"Neck or Back Pain\", \"Neck and Back Pain\"], inplace=True)\n"
   ]
  },
  {
   "cell_type": "code",
   "execution_count": 14,
   "id": "280740bd",
   "metadata": {},
   "outputs": [
    {
     "data": {
      "text/plain": [
       "0    Neck or Back Pain\n",
       "1              No Pain\n",
       "3    Neck or Back Pain\n",
       "4              No Pain\n",
       "5              No Pain\n",
       "Name: Painneck_lowback, dtype: object"
      ]
     },
     "execution_count": 14,
     "metadata": {},
     "output_type": "execute_result"
    }
   ],
   "source": [
    "#printing a preview of our new replacements within the column \"Painneck_lowback\"\n",
    "sleep_df[\"Painneck_lowback\"].head()"
   ]
  },
  {
   "cell_type": "code",
   "execution_count": 15,
   "id": "4c9b79af",
   "metadata": {},
   "outputs": [],
   "source": [
    "# F Creating a new dataframe using the groupby function and new replaced data. \n",
    "#Also gibing the average time slept per each category\n",
    "sleep_df_group_f = sleep_df.groupby(\"Painneck_lowback\").mean()['Time Slept w/ Free Time']"
   ]
  },
  {
   "cell_type": "code",
   "execution_count": 27,
   "id": "9ea5b75d",
   "metadata": {},
   "outputs": [
    {
     "data": {
      "image/png": "[encoded data removed]",
      "text/plain": [
       "<Figure size 640x480 with 1 Axes>"
      ]
     },
     "metadata": {},
     "output_type": "display_data"
    }
   ],
   "source": [
    "# F Bar chart for Neck and Back Pain vs Time Slept \n",
    "sleep_df_group_f.plot.bar(rot=0)\n",
    "plt.title('Free Time Comparison')\n",
    "plt.ylabel('Hours Slept')\n",
    "plt.savefig('Figures/FreeTime_NeckandBackPain_bar.png',dpi=72)\n",
    "plt.show()"
   ]
  },
  {
   "cell_type": "code",
   "execution_count": 17,
   "id": "7f59fda9",
   "metadata": {},
   "outputs": [],
   "source": [
    "# W Creating a new dataframe using the groupby function and new replaced data. \n",
    "#Also gibing the average time slept per each category\n",
    "sleep_df_group = sleep_df.groupby(\"Painneck_lowback\").mean()['Time Slept w/ Work']"
   ]
  },
  {
   "cell_type": "code",
   "execution_count": 18,
   "id": "6714961f",
   "metadata": {},
   "outputs": [
    {
     "data": {
      "image/png": "[encoded data removed]",
      "text/plain": [
       "<Figure size 640x480 with 1 Axes>"
      ]
     },
     "metadata": {},
     "output_type": "display_data"
    }
   ],
   "source": [
    "# W Bar chart for Neck and Back Pain vs Time Slept \n",
    "sleep_df_group.plot.bar(rot=0)\n",
    "plt.title('Work Time Comparison')\n",
    "plt.ylabel('Hours Slept')\n",
    "plt.savefig('Figures/WorkTime_NeckandBackPain_bar.png',dpi=72)\n",
    "plt.show()"
   ]
  },
  {
   "cell_type": "code",
   "execution_count": 19,
   "id": "9a9416f2",
   "metadata": {},
   "outputs": [],
   "source": [
    "# F Created a new filtered dataframe in preparation of boxplot below. \n",
    "#colon to grab all rows, names of columns you wish to work with\n",
    "sleep_df_filtered_f = sleep_df.loc[:,[\"Painneck_lowback\", \"Time Slept w/ Free Time\"]]"
   ]
  },
  {
   "cell_type": "code",
   "execution_count": 20,
   "id": "db521f70",
   "metadata": {},
   "outputs": [
    {
     "data": {
      "image/png": "[encoded data removed]",
      "text/plain": [
       "<Figure size 640x480 with 1 Axes>"
      ]
     },
     "metadata": {},
     "output_type": "display_data"
    }
   ],
   "source": [
    "# F boxplot of sleep data frame working days \n",
    "sleep_df_filtered_f.boxplot(column=['Time Slept w/ Free Time'],by=['Painneck_lowback']) \n",
    "plt.title('Free Time Comparison')\n",
    "plt.ylabel('Hours Slept')\n",
    "plt.savefig('Figures/FreeTime_NeckandBackPain_box.png',dpi=72)"
   ]
  },
  {
   "cell_type": "code",
   "execution_count": 21,
   "id": "9ce3004f",
   "metadata": {},
   "outputs": [],
   "source": [
    "# W Created a new filtered dataframe in preparation of boxplot below. \n",
    "#colon to grab all rows, names of columns you wish to work with\n",
    "sleep_df_filtered = sleep_df.loc[:,[\"Painneck_lowback\", \"Time Slept w/ Work\"]]"
   ]
  },
  {
   "cell_type": "code",
   "execution_count": 22,
   "id": "f4507670",
   "metadata": {},
   "outputs": [
    {
     "data": {
      "image/png": "[encoded data removed]",
      "text/plain": [
       "<Figure size 640x480 with 1 Axes>"
      ]
     },
     "metadata": {},
     "output_type": "display_data"
    }
   ],
   "source": [
    "# W boxplot of sleep data frame working days \n",
    "sleep_df_filtered.boxplot(column=['Time Slept w/ Work'],by=['Painneck_lowback']) \n",
    "plt.title('Work Time Comparison')\n",
    "plt.ylabel('Hours Slept')\n",
    "plt.savefig('Figures/WorkTime_NeckandBackPain_box.png',dpi=72)"
   ]
  },
  {
   "cell_type": "code",
   "execution_count": 23,
   "id": "1c953250",
   "metadata": {},
   "outputs": [],
   "source": [
    "# W T Test prep of the data \n",
    "pain_yes = sleep_df.loc[\n",
    "    ((sleep_df[\"Painneck_lowback\"] == \"Neck or Back Pain\") \n",
    "                        |\n",
    "    (sleep_df[\"Painneck_lowback\"] == \"Neck and Back Pain\")), \"Time Slept w/ Work\"]\n",
    "pain_no = sleep_df.loc[(sleep_df[\"Painneck_lowback\"] == \"No Pain\", \"Time Slept w/ Work\")]\n"
   ]
  },
  {
   "cell_type": "code",
   "execution_count": 24,
   "id": "669a145b",
   "metadata": {},
   "outputs": [
    {
     "data": {
      "text/plain": [
       "Ttest_indResult(statistic=-4.371900320746948, pvalue=1.3806587166228773e-05)"
      ]
     },
     "execution_count": 24,
     "metadata": {},
     "output_type": "execute_result"
    }
   ],
   "source": [
    "# W T Test \n",
    "sp.ttest_ind(pain_yes, pain_no, equal_var=False)"
   ]
  },
  {
   "cell_type": "code",
   "execution_count": 25,
   "id": "3aa16da2",
   "metadata": {},
   "outputs": [],
   "source": [
    "# F T Test prep of the data \n",
    "pain_yes_f = sleep_df.loc[\n",
    "    ((sleep_df[\"Painneck_lowback\"] == \"Neck or Back Pain\") \n",
    "                        |\n",
    "    (sleep_df[\"Painneck_lowback\"] == \"Neck and Back Pain\")), \"Time Slept w/ Free Time\"]\n",
    "pain_no_f = sleep_df.loc[(sleep_df[\"Painneck_lowback\"] == \"No Pain\", \"Time Slept w/ Free Time\")]\n"
   ]
  },
  {
   "cell_type": "code",
   "execution_count": 26,
   "id": "ee6d9cf1",
   "metadata": {},
   "outputs": [
    {
     "data": {
      "text/plain": [
       "Ttest_indResult(statistic=-3.463842209988892, pvalue=0.0005541315008530127)"
      ]
     },
     "execution_count": 26,
     "metadata": {},
     "output_type": "execute_result"
    }
   ],
   "source": [
    "# F T Test \n",
    "sp.ttest_ind(pain_yes_f, pain_no_f, equal_var=False)"
   ]
  }
 ],
 "metadata": {
  "kernelspec": {
   "display_name": "PythonData",
   "language": "python",
   "name": "pythondata"
  },
  "language_info": {
   "codemirror_mode": {
    "name": "ipython",
    "version": 3
   },
   "file_extension": ".py",
   "mimetype": "text/x-python",
   "name": "python",
   "nbconvert_exporter": "python",
   "pygments_lexer": "ipython3",
   "version": "3.7.13"
  }
 },
 "nbformat": 4,
 "nbformat_minor": 5
}
